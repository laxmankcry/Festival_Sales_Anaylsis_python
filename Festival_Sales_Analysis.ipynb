{
 "cells": [
  {
   "cell_type": "code",
   "execution_count": 63,
   "id": "0979edbb",
   "metadata": {},
   "outputs": [],
   "source": [
    "# import python libraries\n",
    "\n",
    "import numpy as np \n",
    "import pandas as pd \n",
    "import matplotlib.pyplot as plt # visualizing data\n",
    "%matplotlib inline\n",
    "import seaborn as sns"
   ]
  },
  {
   "cell_type": "code",
   "execution_count": 65,
   "id": "7fbfb436",
   "metadata": {},
   "outputs": [],
   "source": [
    "# import csv file\n",
    "df = pd.read_csv('Diwali Sales Data.csv', encoding= 'unicode_escape')"
   ]
  },
  {
   "cell_type": "code",
   "execution_count": 67,
   "id": "b8db4a5b",
   "metadata": {},
   "outputs": [
    {
     "data": {
      "text/plain": [
       "(11251, 15)"
      ]
     },
     "execution_count": 67,
     "metadata": {},
     "output_type": "execute_result"
    }
   ],
   "source": [
    "df.shape"
   ]
  },
  {
   "cell_type": "code",
   "execution_count": 69,
   "id": "662c471c",
   "metadata": {},
   "outputs": [
    {
     "data": {
      "text/html": [
       "<div>\n",
       "<style scoped>\n",
       "    .dataframe tbody tr th:only-of-type {\n",
       "        vertical-align: middle;\n",
       "    }\n",
       "\n",
       "    .dataframe tbody tr th {\n",
       "        vertical-align: top;\n",
       "    }\n",
       "\n",
       "    .dataframe thead th {\n",
       "        text-align: right;\n",
       "    }\n",
       "</style>\n",
       "<table border=\"1\" class=\"dataframe\">\n",
       "  <thead>\n",
       "    <tr style=\"text-align: right;\">\n",
       "      <th></th>\n",
       "      <th>User_ID</th>\n",
       "      <th>Cust_name</th>\n",
       "      <th>Product_ID</th>\n",
       "      <th>Gender</th>\n",
       "      <th>Age Group</th>\n",
       "      <th>Age</th>\n",
       "      <th>Marital_Status</th>\n",
       "      <th>State</th>\n",
       "      <th>Zone</th>\n",
       "      <th>Occupation</th>\n",
       "      <th>Product_Category</th>\n",
       "      <th>Orders</th>\n",
       "      <th>Amount</th>\n",
       "      <th>Status</th>\n",
       "      <th>unnamed1</th>\n",
       "    </tr>\n",
       "  </thead>\n",
       "  <tbody>\n",
       "    <tr>\n",
       "      <th>0</th>\n",
       "      <td>1002903</td>\n",
       "      <td>Sanskriti</td>\n",
       "      <td>P00125942</td>\n",
       "      <td>F</td>\n",
       "      <td>26-35</td>\n",
       "      <td>28</td>\n",
       "      <td>0</td>\n",
       "      <td>Maharashtra</td>\n",
       "      <td>Western</td>\n",
       "      <td>Healthcare</td>\n",
       "      <td>Auto</td>\n",
       "      <td>1</td>\n",
       "      <td>23952.00</td>\n",
       "      <td>NaN</td>\n",
       "      <td>NaN</td>\n",
       "    </tr>\n",
       "    <tr>\n",
       "      <th>1</th>\n",
       "      <td>1000732</td>\n",
       "      <td>Kartik</td>\n",
       "      <td>P00110942</td>\n",
       "      <td>F</td>\n",
       "      <td>26-35</td>\n",
       "      <td>35</td>\n",
       "      <td>1</td>\n",
       "      <td>Andhra Pradesh</td>\n",
       "      <td>Southern</td>\n",
       "      <td>Govt</td>\n",
       "      <td>Auto</td>\n",
       "      <td>3</td>\n",
       "      <td>23934.00</td>\n",
       "      <td>NaN</td>\n",
       "      <td>NaN</td>\n",
       "    </tr>\n",
       "    <tr>\n",
       "      <th>2</th>\n",
       "      <td>1001990</td>\n",
       "      <td>Bindu</td>\n",
       "      <td>P00118542</td>\n",
       "      <td>F</td>\n",
       "      <td>26-35</td>\n",
       "      <td>35</td>\n",
       "      <td>1</td>\n",
       "      <td>Uttar Pradesh</td>\n",
       "      <td>Central</td>\n",
       "      <td>Automobile</td>\n",
       "      <td>Auto</td>\n",
       "      <td>3</td>\n",
       "      <td>23924.00</td>\n",
       "      <td>NaN</td>\n",
       "      <td>NaN</td>\n",
       "    </tr>\n",
       "    <tr>\n",
       "      <th>3</th>\n",
       "      <td>1001425</td>\n",
       "      <td>Sudevi</td>\n",
       "      <td>P00237842</td>\n",
       "      <td>M</td>\n",
       "      <td>0-17</td>\n",
       "      <td>16</td>\n",
       "      <td>0</td>\n",
       "      <td>Karnataka</td>\n",
       "      <td>Southern</td>\n",
       "      <td>Construction</td>\n",
       "      <td>Auto</td>\n",
       "      <td>2</td>\n",
       "      <td>23912.00</td>\n",
       "      <td>NaN</td>\n",
       "      <td>NaN</td>\n",
       "    </tr>\n",
       "    <tr>\n",
       "      <th>4</th>\n",
       "      <td>1000588</td>\n",
       "      <td>Joni</td>\n",
       "      <td>P00057942</td>\n",
       "      <td>M</td>\n",
       "      <td>26-35</td>\n",
       "      <td>28</td>\n",
       "      <td>1</td>\n",
       "      <td>Gujarat</td>\n",
       "      <td>Western</td>\n",
       "      <td>Food Processing</td>\n",
       "      <td>Auto</td>\n",
       "      <td>2</td>\n",
       "      <td>23877.00</td>\n",
       "      <td>NaN</td>\n",
       "      <td>NaN</td>\n",
       "    </tr>\n",
       "    <tr>\n",
       "      <th>5</th>\n",
       "      <td>1000588</td>\n",
       "      <td>Joni</td>\n",
       "      <td>P00057942</td>\n",
       "      <td>M</td>\n",
       "      <td>26-35</td>\n",
       "      <td>28</td>\n",
       "      <td>1</td>\n",
       "      <td>Himachal Pradesh</td>\n",
       "      <td>Northern</td>\n",
       "      <td>Food Processing</td>\n",
       "      <td>Auto</td>\n",
       "      <td>1</td>\n",
       "      <td>23877.00</td>\n",
       "      <td>NaN</td>\n",
       "      <td>NaN</td>\n",
       "    </tr>\n",
       "    <tr>\n",
       "      <th>6</th>\n",
       "      <td>1001132</td>\n",
       "      <td>Balk</td>\n",
       "      <td>P00018042</td>\n",
       "      <td>F</td>\n",
       "      <td>18-25</td>\n",
       "      <td>25</td>\n",
       "      <td>1</td>\n",
       "      <td>Uttar Pradesh</td>\n",
       "      <td>Central</td>\n",
       "      <td>Lawyer</td>\n",
       "      <td>Auto</td>\n",
       "      <td>4</td>\n",
       "      <td>23841.00</td>\n",
       "      <td>NaN</td>\n",
       "      <td>NaN</td>\n",
       "    </tr>\n",
       "    <tr>\n",
       "      <th>7</th>\n",
       "      <td>1002092</td>\n",
       "      <td>Shivangi</td>\n",
       "      <td>P00273442</td>\n",
       "      <td>F</td>\n",
       "      <td>55+</td>\n",
       "      <td>61</td>\n",
       "      <td>0</td>\n",
       "      <td>Maharashtra</td>\n",
       "      <td>Western</td>\n",
       "      <td>IT Sector</td>\n",
       "      <td>Auto</td>\n",
       "      <td>1</td>\n",
       "      <td>NaN</td>\n",
       "      <td>NaN</td>\n",
       "      <td>NaN</td>\n",
       "    </tr>\n",
       "    <tr>\n",
       "      <th>8</th>\n",
       "      <td>1003224</td>\n",
       "      <td>Kushal</td>\n",
       "      <td>P00205642</td>\n",
       "      <td>M</td>\n",
       "      <td>26-35</td>\n",
       "      <td>35</td>\n",
       "      <td>0</td>\n",
       "      <td>Uttar Pradesh</td>\n",
       "      <td>Central</td>\n",
       "      <td>Govt</td>\n",
       "      <td>Auto</td>\n",
       "      <td>2</td>\n",
       "      <td>23809.00</td>\n",
       "      <td>NaN</td>\n",
       "      <td>NaN</td>\n",
       "    </tr>\n",
       "    <tr>\n",
       "      <th>9</th>\n",
       "      <td>1003650</td>\n",
       "      <td>Ginny</td>\n",
       "      <td>P00031142</td>\n",
       "      <td>F</td>\n",
       "      <td>26-35</td>\n",
       "      <td>26</td>\n",
       "      <td>1</td>\n",
       "      <td>Andhra Pradesh</td>\n",
       "      <td>Southern</td>\n",
       "      <td>Media</td>\n",
       "      <td>Auto</td>\n",
       "      <td>4</td>\n",
       "      <td>23799.99</td>\n",
       "      <td>NaN</td>\n",
       "      <td>NaN</td>\n",
       "    </tr>\n",
       "  </tbody>\n",
       "</table>\n",
       "</div>"
      ],
      "text/plain": [
       "   User_ID  Cust_name Product_ID Gender Age Group  Age  Marital_Status  \\\n",
       "0  1002903  Sanskriti  P00125942      F     26-35   28               0   \n",
       "1  1000732     Kartik  P00110942      F     26-35   35               1   \n",
       "2  1001990      Bindu  P00118542      F     26-35   35               1   \n",
       "3  1001425     Sudevi  P00237842      M      0-17   16               0   \n",
       "4  1000588       Joni  P00057942      M     26-35   28               1   \n",
       "5  1000588       Joni  P00057942      M     26-35   28               1   \n",
       "6  1001132       Balk  P00018042      F     18-25   25               1   \n",
       "7  1002092   Shivangi  P00273442      F       55+   61               0   \n",
       "8  1003224     Kushal  P00205642      M     26-35   35               0   \n",
       "9  1003650      Ginny  P00031142      F     26-35   26               1   \n",
       "\n",
       "              State      Zone       Occupation Product_Category  Orders  \\\n",
       "0       Maharashtra   Western       Healthcare             Auto       1   \n",
       "1    Andhra Pradesh  Southern             Govt             Auto       3   \n",
       "2     Uttar Pradesh   Central       Automobile             Auto       3   \n",
       "3         Karnataka  Southern     Construction             Auto       2   \n",
       "4           Gujarat   Western  Food Processing             Auto       2   \n",
       "5  Himachal Pradesh  Northern  Food Processing             Auto       1   \n",
       "6     Uttar Pradesh   Central           Lawyer             Auto       4   \n",
       "7       Maharashtra   Western        IT Sector             Auto       1   \n",
       "8     Uttar Pradesh   Central             Govt             Auto       2   \n",
       "9    Andhra Pradesh  Southern            Media             Auto       4   \n",
       "\n",
       "     Amount  Status  unnamed1  \n",
       "0  23952.00     NaN       NaN  \n",
       "1  23934.00     NaN       NaN  \n",
       "2  23924.00     NaN       NaN  \n",
       "3  23912.00     NaN       NaN  \n",
       "4  23877.00     NaN       NaN  \n",
       "5  23877.00     NaN       NaN  \n",
       "6  23841.00     NaN       NaN  \n",
       "7       NaN     NaN       NaN  \n",
       "8  23809.00     NaN       NaN  \n",
       "9  23799.99     NaN       NaN  "
      ]
     },
     "execution_count": 69,
     "metadata": {},
     "output_type": "execute_result"
    }
   ],
   "source": [
    "df.head(10)"
   ]
  },
  {
   "cell_type": "code",
   "execution_count": 71,
   "id": "0814c45b",
   "metadata": {},
   "outputs": [
    {
     "name": "stdout",
     "output_type": "stream",
     "text": [
      "<class 'pandas.core.frame.DataFrame'>\n",
      "RangeIndex: 11251 entries, 0 to 11250\n",
      "Data columns (total 15 columns):\n",
      " #   Column            Non-Null Count  Dtype  \n",
      "---  ------            --------------  -----  \n",
      " 0   User_ID           11251 non-null  int64  \n",
      " 1   Cust_name         11251 non-null  object \n",
      " 2   Product_ID        11251 non-null  object \n",
      " 3   Gender            11251 non-null  object \n",
      " 4   Age Group         11251 non-null  object \n",
      " 5   Age               11251 non-null  int64  \n",
      " 6   Marital_Status    11251 non-null  int64  \n",
      " 7   State             11251 non-null  object \n",
      " 8   Zone              11251 non-null  object \n",
      " 9   Occupation        11251 non-null  object \n",
      " 10  Product_Category  11251 non-null  object \n",
      " 11  Orders            11251 non-null  int64  \n",
      " 12  Amount            11239 non-null  float64\n",
      " 13  Status            0 non-null      float64\n",
      " 14  unnamed1          0 non-null      float64\n",
      "dtypes: float64(3), int64(4), object(8)\n",
      "memory usage: 1.3+ MB\n"
     ]
    }
   ],
   "source": [
    "df.info()"
   ]
  },
  {
   "cell_type": "code",
   "execution_count": 73,
   "id": "29afa95b",
   "metadata": {},
   "outputs": [],
   "source": [
    "#drop unrelated/blank columns\n",
    "df.drop(['Status', 'unnamed1'], axis=1, inplace=True)"
   ]
  },
  {
   "cell_type": "code",
   "execution_count": 75,
   "id": "5cee58eb",
   "metadata": {},
   "outputs": [
    {
     "data": {
      "text/plain": [
       "User_ID              0\n",
       "Cust_name            0\n",
       "Product_ID           0\n",
       "Gender               0\n",
       "Age Group            0\n",
       "Age                  0\n",
       "Marital_Status       0\n",
       "State                0\n",
       "Zone                 0\n",
       "Occupation           0\n",
       "Product_Category     0\n",
       "Orders               0\n",
       "Amount              12\n",
       "dtype: int64"
      ]
     },
     "execution_count": 75,
     "metadata": {},
     "output_type": "execute_result"
    }
   ],
   "source": [
    "#check for null values\n",
    "pd.isnull(df).sum()"
   ]
  },
  {
   "cell_type": "code",
   "execution_count": 77,
   "id": "65de74e3",
   "metadata": {},
   "outputs": [],
   "source": [
    "# drop null values\n",
    "df.dropna(inplace=True)"
   ]
  },
  {
   "cell_type": "code",
   "execution_count": 79,
   "id": "14e4ff48",
   "metadata": {},
   "outputs": [],
   "source": [
    "# change data type\n",
    "df['Amount'] = df['Amount'].astype('int')"
   ]
  },
  {
   "cell_type": "code",
   "execution_count": 81,
   "id": "aa6752dc",
   "metadata": {},
   "outputs": [
    {
     "data": {
      "text/plain": [
       "dtype('int32')"
      ]
     },
     "execution_count": 81,
     "metadata": {},
     "output_type": "execute_result"
    }
   ],
   "source": [
    "df['Amount'].dtypes"
   ]
  },
  {
   "cell_type": "code",
   "execution_count": 83,
   "id": "5f723a99",
   "metadata": {},
   "outputs": [
    {
     "data": {
      "text/plain": [
       "Index(['User_ID', 'Cust_name', 'Product_ID', 'Gender', 'Age Group', 'Age',\n",
       "       'Marital_Status', 'State', 'Zone', 'Occupation', 'Product_Category',\n",
       "       'Orders', 'Amount'],\n",
       "      dtype='object')"
      ]
     },
     "execution_count": 83,
     "metadata": {},
     "output_type": "execute_result"
    }
   ],
   "source": [
    "df.columns"
   ]
  },
  {
   "cell_type": "code",
   "execution_count": 85,
   "id": "a85bb3c3",
   "metadata": {},
   "outputs": [
    {
     "data": {
      "text/html": [
       "<div>\n",
       "<style scoped>\n",
       "    .dataframe tbody tr th:only-of-type {\n",
       "        vertical-align: middle;\n",
       "    }\n",
       "\n",
       "    .dataframe tbody tr th {\n",
       "        vertical-align: top;\n",
       "    }\n",
       "\n",
       "    .dataframe thead th {\n",
       "        text-align: right;\n",
       "    }\n",
       "</style>\n",
       "<table border=\"1\" class=\"dataframe\">\n",
       "  <thead>\n",
       "    <tr style=\"text-align: right;\">\n",
       "      <th></th>\n",
       "      <th>User_ID</th>\n",
       "      <th>Cust_name</th>\n",
       "      <th>Product_ID</th>\n",
       "      <th>Gender</th>\n",
       "      <th>Age Group</th>\n",
       "      <th>Age</th>\n",
       "      <th>Shaadi</th>\n",
       "      <th>State</th>\n",
       "      <th>Zone</th>\n",
       "      <th>Occupation</th>\n",
       "      <th>Product_Category</th>\n",
       "      <th>Orders</th>\n",
       "      <th>Amount</th>\n",
       "    </tr>\n",
       "  </thead>\n",
       "  <tbody>\n",
       "    <tr>\n",
       "      <th>0</th>\n",
       "      <td>1002903</td>\n",
       "      <td>Sanskriti</td>\n",
       "      <td>P00125942</td>\n",
       "      <td>F</td>\n",
       "      <td>26-35</td>\n",
       "      <td>28</td>\n",
       "      <td>0</td>\n",
       "      <td>Maharashtra</td>\n",
       "      <td>Western</td>\n",
       "      <td>Healthcare</td>\n",
       "      <td>Auto</td>\n",
       "      <td>1</td>\n",
       "      <td>23952</td>\n",
       "    </tr>\n",
       "    <tr>\n",
       "      <th>1</th>\n",
       "      <td>1000732</td>\n",
       "      <td>Kartik</td>\n",
       "      <td>P00110942</td>\n",
       "      <td>F</td>\n",
       "      <td>26-35</td>\n",
       "      <td>35</td>\n",
       "      <td>1</td>\n",
       "      <td>Andhra Pradesh</td>\n",
       "      <td>Southern</td>\n",
       "      <td>Govt</td>\n",
       "      <td>Auto</td>\n",
       "      <td>3</td>\n",
       "      <td>23934</td>\n",
       "    </tr>\n",
       "    <tr>\n",
       "      <th>2</th>\n",
       "      <td>1001990</td>\n",
       "      <td>Bindu</td>\n",
       "      <td>P00118542</td>\n",
       "      <td>F</td>\n",
       "      <td>26-35</td>\n",
       "      <td>35</td>\n",
       "      <td>1</td>\n",
       "      <td>Uttar Pradesh</td>\n",
       "      <td>Central</td>\n",
       "      <td>Automobile</td>\n",
       "      <td>Auto</td>\n",
       "      <td>3</td>\n",
       "      <td>23924</td>\n",
       "    </tr>\n",
       "    <tr>\n",
       "      <th>3</th>\n",
       "      <td>1001425</td>\n",
       "      <td>Sudevi</td>\n",
       "      <td>P00237842</td>\n",
       "      <td>M</td>\n",
       "      <td>0-17</td>\n",
       "      <td>16</td>\n",
       "      <td>0</td>\n",
       "      <td>Karnataka</td>\n",
       "      <td>Southern</td>\n",
       "      <td>Construction</td>\n",
       "      <td>Auto</td>\n",
       "      <td>2</td>\n",
       "      <td>23912</td>\n",
       "    </tr>\n",
       "    <tr>\n",
       "      <th>4</th>\n",
       "      <td>1000588</td>\n",
       "      <td>Joni</td>\n",
       "      <td>P00057942</td>\n",
       "      <td>M</td>\n",
       "      <td>26-35</td>\n",
       "      <td>28</td>\n",
       "      <td>1</td>\n",
       "      <td>Gujarat</td>\n",
       "      <td>Western</td>\n",
       "      <td>Food Processing</td>\n",
       "      <td>Auto</td>\n",
       "      <td>2</td>\n",
       "      <td>23877</td>\n",
       "    </tr>\n",
       "    <tr>\n",
       "      <th>...</th>\n",
       "      <td>...</td>\n",
       "      <td>...</td>\n",
       "      <td>...</td>\n",
       "      <td>...</td>\n",
       "      <td>...</td>\n",
       "      <td>...</td>\n",
       "      <td>...</td>\n",
       "      <td>...</td>\n",
       "      <td>...</td>\n",
       "      <td>...</td>\n",
       "      <td>...</td>\n",
       "      <td>...</td>\n",
       "      <td>...</td>\n",
       "    </tr>\n",
       "    <tr>\n",
       "      <th>11246</th>\n",
       "      <td>1000695</td>\n",
       "      <td>Manning</td>\n",
       "      <td>P00296942</td>\n",
       "      <td>M</td>\n",
       "      <td>18-25</td>\n",
       "      <td>19</td>\n",
       "      <td>1</td>\n",
       "      <td>Maharashtra</td>\n",
       "      <td>Western</td>\n",
       "      <td>Chemical</td>\n",
       "      <td>Office</td>\n",
       "      <td>4</td>\n",
       "      <td>370</td>\n",
       "    </tr>\n",
       "    <tr>\n",
       "      <th>11247</th>\n",
       "      <td>1004089</td>\n",
       "      <td>Reichenbach</td>\n",
       "      <td>P00171342</td>\n",
       "      <td>M</td>\n",
       "      <td>26-35</td>\n",
       "      <td>33</td>\n",
       "      <td>0</td>\n",
       "      <td>Haryana</td>\n",
       "      <td>Northern</td>\n",
       "      <td>Healthcare</td>\n",
       "      <td>Veterinary</td>\n",
       "      <td>3</td>\n",
       "      <td>367</td>\n",
       "    </tr>\n",
       "    <tr>\n",
       "      <th>11248</th>\n",
       "      <td>1001209</td>\n",
       "      <td>Oshin</td>\n",
       "      <td>P00201342</td>\n",
       "      <td>F</td>\n",
       "      <td>36-45</td>\n",
       "      <td>40</td>\n",
       "      <td>0</td>\n",
       "      <td>Madhya Pradesh</td>\n",
       "      <td>Central</td>\n",
       "      <td>Textile</td>\n",
       "      <td>Office</td>\n",
       "      <td>4</td>\n",
       "      <td>213</td>\n",
       "    </tr>\n",
       "    <tr>\n",
       "      <th>11249</th>\n",
       "      <td>1004023</td>\n",
       "      <td>Noonan</td>\n",
       "      <td>P00059442</td>\n",
       "      <td>M</td>\n",
       "      <td>36-45</td>\n",
       "      <td>37</td>\n",
       "      <td>0</td>\n",
       "      <td>Karnataka</td>\n",
       "      <td>Southern</td>\n",
       "      <td>Agriculture</td>\n",
       "      <td>Office</td>\n",
       "      <td>3</td>\n",
       "      <td>206</td>\n",
       "    </tr>\n",
       "    <tr>\n",
       "      <th>11250</th>\n",
       "      <td>1002744</td>\n",
       "      <td>Brumley</td>\n",
       "      <td>P00281742</td>\n",
       "      <td>F</td>\n",
       "      <td>18-25</td>\n",
       "      <td>19</td>\n",
       "      <td>0</td>\n",
       "      <td>Maharashtra</td>\n",
       "      <td>Western</td>\n",
       "      <td>Healthcare</td>\n",
       "      <td>Office</td>\n",
       "      <td>3</td>\n",
       "      <td>188</td>\n",
       "    </tr>\n",
       "  </tbody>\n",
       "</table>\n",
       "<p>11239 rows × 13 columns</p>\n",
       "</div>"
      ],
      "text/plain": [
       "       User_ID    Cust_name Product_ID Gender Age Group  Age  Shaadi  \\\n",
       "0      1002903    Sanskriti  P00125942      F     26-35   28       0   \n",
       "1      1000732       Kartik  P00110942      F     26-35   35       1   \n",
       "2      1001990        Bindu  P00118542      F     26-35   35       1   \n",
       "3      1001425       Sudevi  P00237842      M      0-17   16       0   \n",
       "4      1000588         Joni  P00057942      M     26-35   28       1   \n",
       "...        ...          ...        ...    ...       ...  ...     ...   \n",
       "11246  1000695      Manning  P00296942      M     18-25   19       1   \n",
       "11247  1004089  Reichenbach  P00171342      M     26-35   33       0   \n",
       "11248  1001209        Oshin  P00201342      F     36-45   40       0   \n",
       "11249  1004023       Noonan  P00059442      M     36-45   37       0   \n",
       "11250  1002744      Brumley  P00281742      F     18-25   19       0   \n",
       "\n",
       "                State      Zone       Occupation Product_Category  Orders  \\\n",
       "0         Maharashtra   Western       Healthcare             Auto       1   \n",
       "1      Andhra Pradesh  Southern             Govt             Auto       3   \n",
       "2       Uttar Pradesh   Central       Automobile             Auto       3   \n",
       "3           Karnataka  Southern     Construction             Auto       2   \n",
       "4             Gujarat   Western  Food Processing             Auto       2   \n",
       "...               ...       ...              ...              ...     ...   \n",
       "11246     Maharashtra   Western         Chemical           Office       4   \n",
       "11247         Haryana  Northern       Healthcare       Veterinary       3   \n",
       "11248  Madhya Pradesh   Central          Textile           Office       4   \n",
       "11249       Karnataka  Southern      Agriculture           Office       3   \n",
       "11250     Maharashtra   Western       Healthcare           Office       3   \n",
       "\n",
       "       Amount  \n",
       "0       23952  \n",
       "1       23934  \n",
       "2       23924  \n",
       "3       23912  \n",
       "4       23877  \n",
       "...       ...  \n",
       "11246     370  \n",
       "11247     367  \n",
       "11248     213  \n",
       "11249     206  \n",
       "11250     188  \n",
       "\n",
       "[11239 rows x 13 columns]"
      ]
     },
     "execution_count": 85,
     "metadata": {},
     "output_type": "execute_result"
    }
   ],
   "source": [
    "#rename column\n",
    "df.rename(columns= {'Marital_Status':'Shaadi'})"
   ]
  },
  {
   "cell_type": "code",
   "execution_count": 87,
   "id": "a2484863",
   "metadata": {},
   "outputs": [
    {
     "data": {
      "text/html": [
       "<div>\n",
       "<style scoped>\n",
       "    .dataframe tbody tr th:only-of-type {\n",
       "        vertical-align: middle;\n",
       "    }\n",
       "\n",
       "    .dataframe tbody tr th {\n",
       "        vertical-align: top;\n",
       "    }\n",
       "\n",
       "    .dataframe thead th {\n",
       "        text-align: right;\n",
       "    }\n",
       "</style>\n",
       "<table border=\"1\" class=\"dataframe\">\n",
       "  <thead>\n",
       "    <tr style=\"text-align: right;\">\n",
       "      <th></th>\n",
       "      <th>User_ID</th>\n",
       "      <th>Age</th>\n",
       "      <th>Marital_Status</th>\n",
       "      <th>Orders</th>\n",
       "      <th>Amount</th>\n",
       "    </tr>\n",
       "  </thead>\n",
       "  <tbody>\n",
       "    <tr>\n",
       "      <th>count</th>\n",
       "      <td>1.123900e+04</td>\n",
       "      <td>11239.000000</td>\n",
       "      <td>11239.000000</td>\n",
       "      <td>11239.000000</td>\n",
       "      <td>11239.000000</td>\n",
       "    </tr>\n",
       "    <tr>\n",
       "      <th>mean</th>\n",
       "      <td>1.003004e+06</td>\n",
       "      <td>35.410357</td>\n",
       "      <td>0.420055</td>\n",
       "      <td>2.489634</td>\n",
       "      <td>9453.610553</td>\n",
       "    </tr>\n",
       "    <tr>\n",
       "      <th>std</th>\n",
       "      <td>1.716039e+03</td>\n",
       "      <td>12.753866</td>\n",
       "      <td>0.493589</td>\n",
       "      <td>1.114967</td>\n",
       "      <td>5222.355168</td>\n",
       "    </tr>\n",
       "    <tr>\n",
       "      <th>min</th>\n",
       "      <td>1.000001e+06</td>\n",
       "      <td>12.000000</td>\n",
       "      <td>0.000000</td>\n",
       "      <td>1.000000</td>\n",
       "      <td>188.000000</td>\n",
       "    </tr>\n",
       "    <tr>\n",
       "      <th>25%</th>\n",
       "      <td>1.001492e+06</td>\n",
       "      <td>27.000000</td>\n",
       "      <td>0.000000</td>\n",
       "      <td>2.000000</td>\n",
       "      <td>5443.000000</td>\n",
       "    </tr>\n",
       "    <tr>\n",
       "      <th>50%</th>\n",
       "      <td>1.003064e+06</td>\n",
       "      <td>33.000000</td>\n",
       "      <td>0.000000</td>\n",
       "      <td>2.000000</td>\n",
       "      <td>8109.000000</td>\n",
       "    </tr>\n",
       "    <tr>\n",
       "      <th>75%</th>\n",
       "      <td>1.004426e+06</td>\n",
       "      <td>43.000000</td>\n",
       "      <td>1.000000</td>\n",
       "      <td>3.000000</td>\n",
       "      <td>12675.000000</td>\n",
       "    </tr>\n",
       "    <tr>\n",
       "      <th>max</th>\n",
       "      <td>1.006040e+06</td>\n",
       "      <td>92.000000</td>\n",
       "      <td>1.000000</td>\n",
       "      <td>4.000000</td>\n",
       "      <td>23952.000000</td>\n",
       "    </tr>\n",
       "  </tbody>\n",
       "</table>\n",
       "</div>"
      ],
      "text/plain": [
       "            User_ID           Age  Marital_Status        Orders        Amount\n",
       "count  1.123900e+04  11239.000000    11239.000000  11239.000000  11239.000000\n",
       "mean   1.003004e+06     35.410357        0.420055      2.489634   9453.610553\n",
       "std    1.716039e+03     12.753866        0.493589      1.114967   5222.355168\n",
       "min    1.000001e+06     12.000000        0.000000      1.000000    188.000000\n",
       "25%    1.001492e+06     27.000000        0.000000      2.000000   5443.000000\n",
       "50%    1.003064e+06     33.000000        0.000000      2.000000   8109.000000\n",
       "75%    1.004426e+06     43.000000        1.000000      3.000000  12675.000000\n",
       "max    1.006040e+06     92.000000        1.000000      4.000000  23952.000000"
      ]
     },
     "execution_count": 87,
     "metadata": {},
     "output_type": "execute_result"
    }
   ],
   "source": [
    "# describe() method returns description of the data in the DataFrame (i.e. count, mean, std, etc)\n",
    "df.describe()"
   ]
  },
  {
   "cell_type": "code",
   "execution_count": 89,
   "id": "2c380030",
   "metadata": {},
   "outputs": [
    {
     "data": {
      "text/html": [
       "<div>\n",
       "<style scoped>\n",
       "    .dataframe tbody tr th:only-of-type {\n",
       "        vertical-align: middle;\n",
       "    }\n",
       "\n",
       "    .dataframe tbody tr th {\n",
       "        vertical-align: top;\n",
       "    }\n",
       "\n",
       "    .dataframe thead th {\n",
       "        text-align: right;\n",
       "    }\n",
       "</style>\n",
       "<table border=\"1\" class=\"dataframe\">\n",
       "  <thead>\n",
       "    <tr style=\"text-align: right;\">\n",
       "      <th></th>\n",
       "      <th>Age</th>\n",
       "      <th>Orders</th>\n",
       "      <th>Amount</th>\n",
       "    </tr>\n",
       "  </thead>\n",
       "  <tbody>\n",
       "    <tr>\n",
       "      <th>count</th>\n",
       "      <td>11239.000000</td>\n",
       "      <td>11239.000000</td>\n",
       "      <td>11239.000000</td>\n",
       "    </tr>\n",
       "    <tr>\n",
       "      <th>mean</th>\n",
       "      <td>35.410357</td>\n",
       "      <td>2.489634</td>\n",
       "      <td>9453.610553</td>\n",
       "    </tr>\n",
       "    <tr>\n",
       "      <th>std</th>\n",
       "      <td>12.753866</td>\n",
       "      <td>1.114967</td>\n",
       "      <td>5222.355168</td>\n",
       "    </tr>\n",
       "    <tr>\n",
       "      <th>min</th>\n",
       "      <td>12.000000</td>\n",
       "      <td>1.000000</td>\n",
       "      <td>188.000000</td>\n",
       "    </tr>\n",
       "    <tr>\n",
       "      <th>25%</th>\n",
       "      <td>27.000000</td>\n",
       "      <td>2.000000</td>\n",
       "      <td>5443.000000</td>\n",
       "    </tr>\n",
       "    <tr>\n",
       "      <th>50%</th>\n",
       "      <td>33.000000</td>\n",
       "      <td>2.000000</td>\n",
       "      <td>8109.000000</td>\n",
       "    </tr>\n",
       "    <tr>\n",
       "      <th>75%</th>\n",
       "      <td>43.000000</td>\n",
       "      <td>3.000000</td>\n",
       "      <td>12675.000000</td>\n",
       "    </tr>\n",
       "    <tr>\n",
       "      <th>max</th>\n",
       "      <td>92.000000</td>\n",
       "      <td>4.000000</td>\n",
       "      <td>23952.000000</td>\n",
       "    </tr>\n",
       "  </tbody>\n",
       "</table>\n",
       "</div>"
      ],
      "text/plain": [
       "                Age        Orders        Amount\n",
       "count  11239.000000  11239.000000  11239.000000\n",
       "mean      35.410357      2.489634   9453.610553\n",
       "std       12.753866      1.114967   5222.355168\n",
       "min       12.000000      1.000000    188.000000\n",
       "25%       27.000000      2.000000   5443.000000\n",
       "50%       33.000000      2.000000   8109.000000\n",
       "75%       43.000000      3.000000  12675.000000\n",
       "max       92.000000      4.000000  23952.000000"
      ]
     },
     "execution_count": 89,
     "metadata": {},
     "output_type": "execute_result"
    }
   ],
   "source": [
    "# use describe() for specific columns\n",
    "df[['Age', 'Orders', 'Amount']].describe()"
   ]
  },
  {
   "cell_type": "markdown",
   "id": "cc649558",
   "metadata": {},
   "source": [
    "# Exploratory Data Analysis"
   ]
  },
  {
   "cell_type": "markdown",
   "id": "504b419c",
   "metadata": {},
   "source": [
    "### Gender"
   ]
  },
  {
   "cell_type": "code",
   "execution_count": 101,
   "id": "84c7918d",
   "metadata": {},
   "outputs": [],
   "source": [
    "# plotting a bar chart for Gender and it's count\n",
    "\n",
    "ax = sns.countplot(x = 'Gender',data = df)\n",
    "\n",
    "for bars in ax.containers:\n",
    "    ax.bar_label(bars)"
   ]
  },
  {
   "cell_type": "code",
   "execution_count": 99,
   "id": "c5fd4566",
   "metadata": {},
   "outputs": [
    {
     "data": {
      "text/plain": [
       "<Axes: xlabel='Gender', ylabel='count'>"
      ]
     },
     "execution_count": 99,
     "metadata": {},
     "output_type": "execute_result"
    }
   ],
   "source": [
    "# plotting a bar chart for gender vs total amount\n",
    "\n",
    "sales_gen = df.groupby(['Gender'], as_index=False)['Amount'].sum().sort_values(by='Amount', ascending=False)\n",
    "\n",
    "sns.barplot(x = 'Gender',y= 'Amount' ,data = sales_gen)"
   ]
  },
  {
   "cell_type": "markdown",
   "id": "1e108cec",
   "metadata": {},
   "source": [
    "*From above graphs we can see that most of the buyers are females and even the purchasing power of females are greater than men*"
   ]
  },
  {
   "cell_type": "markdown",
   "id": "dcc927f9",
   "metadata": {},
   "source": [
    "### Age"
   ]
  },
  {
   "cell_type": "code",
   "execution_count": 17,
   "id": "88563dec",
   "metadata": {},
   "outputs": [
    {
     "data": {
      "image/png": "[encoded data removed]",
      "text/plain": [
       "<Figure size 640x480 with 1 Axes>"
      ]
     },
     "metadata": {},
     "output_type": "display_data"
    }
   ],
   "source": [
    "ax = sns.countplot(data = df, x = 'Age Group', hue = 'Gender')\n",
    "\n",
    "for bars in ax.containers:\n",
    "    ax.bar_label(bars)"
   ]
  },
  {
   "cell_type": "code",
   "execution_count": 47,
   "id": "bfbe3937",
   "metadata": {},
   "outputs": [
    {
     "data": {
      "text/plain": [
       "<Axes: xlabel='Gender', ylabel='count'>"
      ]
     },
     "execution_count": 47,
     "metadata": {},
     "output_type": "execute_result"
    }
   ],
   "source": [
    "# Total Amount vs Age Group\n",
    "sales_age = df.groupby(['Age Group'], as_index=False)['Amount'].sum().sort_values(by='Amount', ascending=False)\n",
    "\n",
    "sns.barplot(x = 'Age Group',y= 'Amount' ,data = sales_age)"
   ]
  },
  {
   "cell_type": "markdown",
   "id": "abaa6c07",
   "metadata": {},
   "source": [
    "*From above graphs we can see that most of the buyers are of age group between 26-35 yrs female*"
   ]
  },
  {
   "cell_type": "markdown",
   "id": "83a49098",
   "metadata": {},
   "source": [
    "### State"
   ]
  },
  {
   "cell_type": "code",
   "execution_count": 49,
   "id": "dfac4f2c",
   "metadata": {},
   "outputs": [
    {
     "data": {
      "text/plain": [
       "<Axes: xlabel='Gender', ylabel='count'>"
      ]
     },
     "execution_count": 49,
     "metadata": {},
     "output_type": "execute_result"
    }
   ],
   "source": [
    "# total number of orders from top 10 states\n",
    "\n",
    "sales_state = df.groupby(['State'], as_index=False)['Orders'].sum().sort_values(by='Orders', ascending=False).head(10)\n",
    "\n",
    "sns.set(rc={'figure.figsize':(15,5)})\n",
    "sns.barplot(data = sales_state, x = 'State',y= 'Orders')"
   ]
  },
  {
   "cell_type": "code",
   "execution_count": 20,
   "id": "a66617bc",
   "metadata": {},
   "outputs": [
    {
     "data": {
      "text/plain": [
       "<Axes: xlabel='State', ylabel='Amount'>"
      ]
     },
     "execution_count": 20,
     "metadata": {},
     "output_type": "execute_result"
    },
    {
     "data": {
      "image/png": "[encoded data removed]",
      "text/plain": [
       "<Figure size 1500x500 with 1 Axes>"
      ]
     },
     "metadata": {},
     "output_type": "display_data"
    }
   ],
   "source": [
    "# total amount/sales from top 10 states\n",
    "\n",
    "sales_state = df.groupby(['State'], as_index=False)['Amount'].sum().sort_values(by='Amount', ascending=False).head(10)\n",
    "\n",
    "sns.set(rc={'figure.figsize':(15,5)})\n",
    "sns.barplot(data = sales_state, x = 'State',y= 'Amount')"
   ]
  },
  {
   "cell_type": "markdown",
   "id": "39d46e9e",
   "metadata": {},
   "source": [
    "*From above graphs we can see that most of the orders & total sales/amount are from Uttar Pradesh, Maharashtra and Karnataka respectively*\n"
   ]
  },
  {
   "cell_type": "markdown",
   "id": "89f865a5",
   "metadata": {},
   "source": [
    "### Marital Status"
   ]
  },
  {
   "cell_type": "code",
   "execution_count": 51,
   "id": "77e6635e",
   "metadata": {},
   "outputs": [],
   "source": [
    "ax = sns.countplot(data = df, x = 'Marital_Status')\n",
    "\n",
    "sns.set(rc={'figure.figsize':(7,5)})\n",
    "for bars in ax.containers:\n",
    "    ax.bar_label(bars)"
   ]
  },
  {
   "cell_type": "code",
   "execution_count": 22,
   "id": "2d8c7b27",
   "metadata": {},
   "outputs": [
    {
     "data": {
      "text/plain": [
       "<Axes: xlabel='Marital_Status', ylabel='Amount'>"
      ]
     },
     "execution_count": 22,
     "metadata": {},
     "output_type": "execute_result"
    },
    {
     "data": {
      "image/png": "[encoded data removed]",
      "text/plain": [
       "<Figure size 600x500 with 1 Axes>"
      ]
     },
     "metadata": {},
     "output_type": "display_data"
    }
   ],
   "source": [
    "sales_state = df.groupby(['Marital_Status', 'Gender'], as_index=False)['Amount'].sum().sort_values(by='Amount', ascending=False)\n",
    "\n",
    "sns.set(rc={'figure.figsize':(6,5)})\n",
    "sns.barplot(data = sales_state, x = 'Marital_Status',y= 'Amount', hue='Gender')"
   ]
  },
  {
   "cell_type": "markdown",
   "id": "37afbb83",
   "metadata": {},
   "source": [
    "*From above graphs we can see that most of the buyers are married (women) and they have high purchasing power*"
   ]
  },
  {
   "cell_type": "markdown",
   "id": "230cfe66",
   "metadata": {},
   "source": [
    "### Occupation"
   ]
  },
  {
   "cell_type": "code",
   "execution_count": 53,
   "id": "4deb41f4",
   "metadata": {},
   "outputs": [],
   "source": [
    "sns.set(rc={'figure.figsize':(20,5)})\n",
    "ax = sns.countplot(data = df, x = 'Occupation')\n",
    "\n",
    "for bars in ax.containers:\n",
    "    ax.bar_label(bars)"
   ]
  },
  {
   "cell_type": "code",
   "execution_count": 55,
   "id": "4eb620f6",
   "metadata": {},
   "outputs": [
    {
     "data": {
      "text/plain": [
       "<Axes: xlabel='Gender', ylabel='count'>"
      ]
     },
     "execution_count": 55,
     "metadata": {},
     "output_type": "execute_result"
    }
   ],
   "source": [
    "sales_state = df.groupby(['Occupation'], as_index=False)['Amount'].sum().sort_values(by='Amount', ascending=False)\n",
    "\n",
    "sns.set(rc={'figure.figsize':(20,5)})\n",
    "sns.barplot(data = sales_state, x = 'Occupation',y= 'Amount')"
   ]
  },
  {
   "cell_type": "markdown",
   "id": "26c22532",
   "metadata": {},
   "source": [
    "*From above graphs we can see that most of the buyers are working in IT, Healthcare and Aviation sector*"
   ]
  },
  {
   "cell_type": "markdown",
   "id": "40518579",
   "metadata": {},
   "source": [
    "### Product Category"
   ]
  },
  {
   "cell_type": "code",
   "execution_count": 61,
   "id": "3e7e4d39",
   "metadata": {},
   "outputs": [],
   "source": [
    "sns.set(rc={'figure.figsize':(20,5)})\n",
    "ax = sns.countplot(data = df, x = 'Product_Category')\n",
    "\n",
    "for bars in ax.containers:\n",
    "    ax.bar_label(bars)"
   ]
  },
  {
   "cell_type": "code",
   "execution_count": 26,
   "id": "99f5c6f3",
   "metadata": {},
   "outputs": [
    {
     "data": {
      "text/plain": [
       "<Axes: xlabel='Product_Category', ylabel='Amount'>"
      ]
     },
     "execution_count": 26,
     "metadata": {},
     "output_type": "execute_result"
    },
    {
     "data": {
      "image/png": "[encoded data removed]",
      "text/plain": [
       "<Figure size 2000x500 with 1 Axes>"
      ]
     },
     "metadata": {},
     "output_type": "display_data"
    }
   ],
   "source": [
    "sales_state = df.groupby(['Product_Category'], as_index=False)['Amount'].sum().sort_values(by='Amount', ascending=False).head(10)\n",
    "\n",
    "sns.set(rc={'figure.figsize':(20,5)})\n",
    "sns.barplot(data = sales_state, x = 'Product_Category',y= 'Amount')"
   ]
  },
  {
   "cell_type": "markdown",
   "id": "5be54973",
   "metadata": {},
   "source": [
    "*From above graphs we can see that most of the sold products are from Food, Clothing and Electronics category*"
   ]
  },
  {
   "cell_type": "code",
   "execution_count": 27,
   "id": "f33d23c7",
   "metadata": {},
   "outputs": [
    {
     "data": {
      "text/plain": [
       "<Axes: xlabel='Product_ID', ylabel='Orders'>"
      ]
     },
     "execution_count": 27,
     "metadata": {},
     "output_type": "execute_result"
    },
    {
     "data": {
      "image/png": "[encoded data removed]",
      "text/plain": [
       "<Figure size 2000x500 with 1 Axes>"
      ]
     },
     "metadata": {},
     "output_type": "display_data"
    }
   ],
   "source": [
    "sales_state = df.groupby(['Product_ID'], as_index=False)['Orders'].sum().sort_values(by='Orders', ascending=False).head(10)\n",
    "\n",
    "sns.set(rc={'figure.figsize':(20,5)})\n",
    "sns.barplot(data = sales_state, x = 'Product_ID',y= 'Orders')"
   ]
  },
  {
   "cell_type": "code",
   "execution_count": 28,
   "id": "17d2bb43",
   "metadata": {},
   "outputs": [
    {
     "data": {
      "text/plain": [
       "<Axes: xlabel='Product_ID'>"
      ]
     },
     "execution_count": 28,
     "metadata": {},
     "output_type": "execute_result"
    },
    {
     "data": {
      "image/png": "[encoded data removed]",
      "text/plain": [
       "<Figure size 1200x700 with 1 Axes>"
      ]
     },
     "metadata": {},
     "output_type": "display_data"
    }
   ],
   "source": [
    "# top 10 most sold products (same thing as above)\n",
    "\n",
    "fig1, ax1 = plt.subplots(figsize=(12,7))\n",
    "df.groupby('Product_ID')['Orders'].sum().nlargest(10).sort_values(ascending=False).plot(kind='bar')"
   ]
  },
  {
   "cell_type": "markdown",
   "id": "31f88f63",
   "metadata": {},
   "source": [
    "## Conclusion:\n",
    "\n",
    "### "
   ]
  },
  {
   "cell_type": "markdown",
   "id": "56e52bca",
   "metadata": {},
   "source": [
    "*Married women age group 26-35 yrs from UP,  Maharastra and Karnataka working in IT, Healthcare and Aviation are more likely to buy products from Food, Clothing and Electronics category*"
   ]
  },
  {
   "cell_type": "markdown",
   "id": "d7bfbc58",
   "metadata": {},
   "source": [
    "Thank you!"
   ]
  }
 ],
 "metadata": {
  "kernelspec": {
   "display_name": "Python [conda env:base] *",
   "language": "python",
   "name": "conda-base-py"
  },
  "language_info": {
   "codemirror_mode": {
    "name": "ipython",
    "version": 3
   },
   "file_extension": ".py",
   "mimetype": "text/x-python",
   "name": "python",
   "nbconvert_exporter": "python",
   "pygments_lexer": "ipython3",
   "version": "3.12.7"
  }
 },
 "nbformat": 4,
 "nbformat_minor": 5
}
